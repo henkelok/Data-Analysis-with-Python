{
 "cells": [
  {
   "cell_type": "code",
   "execution_count": 1,
   "metadata": {},
   "outputs": [
    {
     "name": "stdout",
     "output_type": "stream",
     "text": [
      "{'mean': [array([3., 4., 5.]), array([1., 4., 7.]), 4.0], 'variance': [array([6., 6., 6.]), array([0.66666667, 0.66666667, 0.66666667]), 6.666666666666667], 'standard deviation': [array([2.44948974, 2.44948974, 2.44948974]), array([0.81649658, 0.81649658, 0.81649658]), 2.581988897471611], 'max': [array([6, 7, 8]), array([2, 5, 8]), 8], 'min': [array([0, 1, 2]), array([0, 3, 6]), 0], 'sum': [array([ 9, 12, 15]), array([ 3, 12, 21]), 36]}\n"
     ]
    }
   ],
   "source": [
    "import numpy as np\n",
    "\n",
    "mylist = [0, 1, 2, 3, 4, 5, 6, 7, 8]\n",
    "\n",
    "#if len(mylist) != 9:\n",
    "    #ValueError exception\n",
    "\n",
    "myarray = np.array(mylist)\n",
    "myarray = myarray.reshape(3,3)\n",
    "\n",
    "mydict = {\n",
    "    'mean' : [np.mean(myarray, axis=0), np.mean(myarray, axis=1), np.mean(myarray.flatten())],\n",
    "    'variance' : [np.var(myarray, axis=0), np.var(myarray, axis=1), np.var(myarray.flatten())],\n",
    "    'standard deviation' : [np.std(myarray, axis=0), np.std(myarray, axis=1), np.std(myarray.flatten())],\n",
    "    'max' : [np.max(myarray, axis=0), np.max(myarray, axis=1), np.max(myarray.flatten())],\n",
    "    'min' : [np.min(myarray, axis=0), np.min(myarray, axis=1), np.min(myarray.flatten())],\n",
    "    'sum' : [np.sum(myarray, axis=0), np.sum(myarray, axis=1), np.sum(myarray.flatten())] \n",
    "}\n",
    "\n",
    "print(mydict)\n"
   ]
  }
 ],
 "metadata": {
  "kernelspec": {
   "display_name": "Python 3",
   "language": "python",
   "name": "python3"
  },
  "language_info": {
   "codemirror_mode": {
    "name": "ipython",
    "version": 3
   },
   "file_extension": ".py",
   "mimetype": "text/x-python",
   "name": "python",
   "nbconvert_exporter": "python",
   "pygments_lexer": "ipython3",
   "version": "3.8.3"
  }
 },
 "nbformat": 4,
 "nbformat_minor": 4
}
